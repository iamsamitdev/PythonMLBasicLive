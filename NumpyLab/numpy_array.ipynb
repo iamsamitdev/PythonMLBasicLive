{
 "cells": [
  {
   "cell_type": "markdown",
   "metadata": {},
   "source": [
    "#### 1. ตรวจสอบว่ามี library ของ numpy ถูกติดตั้งอยู่หรือไม่"
   ]
  },
  {
   "cell_type": "code",
   "execution_count": null,
   "metadata": {},
   "outputs": [],
   "source": [
    "! pip show numpy"
   ]
  },
  {
   "cell_type": "markdown",
   "metadata": {},
   "source": [
    "#### 2. ถ้ายังไม่ได้ติดตั้งให้ทำการติดตั้ง library ของ numpy โดยใช้คำสั่ง"
   ]
  },
  {
   "cell_type": "code",
   "execution_count": null,
   "metadata": {},
   "outputs": [],
   "source": [
    "! pip install numpy"
   ]
  },
  {
   "cell_type": "markdown",
   "metadata": {},
   "source": [
    "#### 3. การสร้าง Array ใน numpy สามารถทำได้โดยใช้คำสั่ง np.array()"
   ]
  },
  {
   "cell_type": "code",
   "execution_count": 11,
   "metadata": {},
   "outputs": [
    {
     "name": "stdout",
     "output_type": "stream",
     "text": [
      "10\n",
      "[1 2 3]\n",
      "[[1]\n",
      " [2]\n",
      " [3]]\n",
      "[[1 2 3]\n",
      " [4 5 6]]\n"
     ]
    }
   ],
   "source": [
    "import numpy as np\n",
    "\n",
    "# อาเรย์แบบ scalar\n",
    "a = np.array(10)\n",
    "print(a)\n",
    "\n",
    "# อาเรย์แบบ vector\n",
    "row = np.array([1, 2, 3]) # 1 row 3 columns\n",
    "column = np.array([[1], [2], [3]]) # 3 rows 1 column\n",
    "\n",
    "print(row)\n",
    "print(column)\n",
    "\n",
    "# อาเรย์แบบ matrix\n",
    "matrix = np.array([[1, 2, 3], [4, 5, 6]]) # 2 rows 3 columns\n",
    "print(matrix)"
   ]
  },
  {
   "cell_type": "markdown",
   "metadata": {},
   "source": [
    "#### 4. การสร้างตัวเลขแบบสุ่มใน numpy สามารถทำได้โดยใช้คำสั่ง np.random"
   ]
  },
  {
   "cell_type": "code",
   "execution_count": 63,
   "metadata": {},
   "outputs": [
    {
     "name": "stdout",
     "output_type": "stream",
     "text": [
      "[4 1 5 6 6]\n",
      "[0.10147969 0.49208445 0.82598234 0.16246971 0.43851692]\n"
     ]
    }
   ],
   "source": [
    "# ตัวอย่างการ random เลขจำนวนเต็ม 0-9 ขนาด 5 ตัว\n",
    "r1 = np.random.randint(0, 10, 5) # vector 1 row 5 columns\n",
    "print(r1)\n",
    "\n",
    "# Random เลขทศนิยม 0-1\n",
    "r2 = np.random.random(5) # vector 1 row 5 columns\n",
    "print(r2)"
   ]
  },
  {
   "cell_type": "markdown",
   "metadata": {},
   "source": [
    "#### 5. การเข้าถึงและเลือกสมาชิกใน Array สามารถทำได้โดยใช้คำสั่ง"
   ]
  },
  {
   "cell_type": "code",
   "execution_count": 69,
   "metadata": {},
   "outputs": [
    {
     "name": "stdout",
     "output_type": "stream",
     "text": [
      "[ 1  2  3  4  5  6  7  8  9 10]\n",
      "4\n",
      "[3 4 5 6]\n",
      "[1 2 3 4 5]\n",
      "[ 6  7  8  9 10]\n",
      "[8 9]\n"
     ]
    }
   ],
   "source": [
    "vrow = np.array([1, 2, 3, 4, 5, 6, 7, 8, 9, 10]) # 1 row 10 columns\n",
    "\n",
    "print(vrow) # แสดงค่าทั้งหมด\n",
    "print(vrow[3]) # แสดงค่าตำแหน่งที่ 3\n",
    "print(vrow[2:6]) # แสดงค่าตำแหน่งที่ 2-6\n",
    "print(vrow[:5]) # แสดงค่าตำแหน่งที่ 0-5\n",
    "print(vrow[5:]) # แสดงค่าตำแหน่งที่ 5-จบ\n",
    "print(vrow[-3:-1]) # แสดงค่าตำแหน่งที่ 1 ตัวสุดท้าย"
   ]
  },
  {
   "cell_type": "markdown",
   "metadata": {},
   "source": [
    "#### 6. การหาค่าทางสถิติใน numpy สามารถทำได้โดยใช้คำสั่ง"
   ]
  },
  {
   "cell_type": "code",
   "execution_count": 78,
   "metadata": {},
   "outputs": [
    {
     "name": "stdout",
     "output_type": "stream",
     "text": [
      "[[ 1  2  3  4]\n",
      " [ 5  6  7  8]\n",
      " [ 9 10 11 12]]\n",
      "Max: 12\n",
      "Min: 1\n",
      "Mean: 6.5\n",
      "Median: 6.5\n",
      "Standard Deviation: 3.452052529534663\n",
      "Variance: 11.916666666666666\n"
     ]
    }
   ],
   "source": [
    "stat = np.array([[1,2,3,4], [5,6,7,8], [9,10,11,12]]) # 3 rows, 4 columns\n",
    "print(stat)\n",
    "\n",
    "# การหาค่าสูงสุด\n",
    "print(\"Max:\", np.max(stat))\n",
    "\n",
    "# การหาค่าต่ำสุด\n",
    "print(\"Min:\", np.min(stat))\n",
    "\n",
    "# การหาค่าเฉลี่ย\n",
    "print(\"Mean:\", np.mean(stat))\n",
    "\n",
    "# การหาค่ามัธยฐาน (ค่ากลาง)\n",
    "print(\"Median:\", np.median(stat))\n",
    "\n",
    "# การหาค่าส่วนเบี่ยงเบนมาตรฐาน\n",
    "print(\"Standard Deviation:\", np.std(stat))\n",
    "\n",
    "# หาค่าความแปรปรวน (variance)\n",
    "print(\"Variance:\", np.var(stat))"
   ]
  }
 ],
 "metadata": {
  "kernelspec": {
   "display_name": "env",
   "language": "python",
   "name": "python3"
  },
  "language_info": {
   "codemirror_mode": {
    "name": "ipython",
    "version": 3
   },
   "file_extension": ".py",
   "mimetype": "text/x-python",
   "name": "python",
   "nbconvert_exporter": "python",
   "pygments_lexer": "ipython3",
   "version": "3.12.1"
  }
 },
 "nbformat": 4,
 "nbformat_minor": 2
}
